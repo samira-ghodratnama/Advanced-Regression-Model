{
 "cells": [
  {
   "cell_type": "markdown",
   "metadata": {},
   "source": [
    "This problem is a kaggle competition:\n",
    "Ask a home buyer to describe their dream house, and they probably won't begin with the height of the basement ceiling or the proximity to an east-west railroad. But this playground competition's dataset proves that much more influences price negotiations than the number of bedrooms or a white-picket fence.\n",
    "\n",
    "With 79 explanatory variables describing (almost) every aspect of residential homes in Ames, Iowa, this competition challenges aim to predict the final price of each home."
   ]
  },
  {
   "cell_type": "code",
   "execution_count": 13,
   "metadata": {},
   "outputs": [],
   "source": [
    "import pandas as pd\n",
    "from sklearn.ensemble import RandomForestRegressor\n",
    "from sklearn.datasets import make_regression\n",
    "from sklearn.impute import SimpleImputer\n",
    "from sklearn.preprocessing import OneHotEncoder\n",
    "from sklearn.preprocessing import OrdinalEncoder\n",
    "from sklearn.metrics import r2_score\n",
    "from sklearn import metrics"
   ]
  },
  {
   "cell_type": "markdown",
   "metadata": {},
   "source": [
    "# Exploring Data"
   ]
  },
  {
   "cell_type": "code",
   "execution_count": 15,
   "metadata": {},
   "outputs": [
    {
     "name": "stdout",
     "output_type": "stream",
     "text": [
      "(1460, 81)\n",
      "(1459, 80)\n"
     ]
    }
   ],
   "source": [
    "# Read data\n",
    "train=pd.read_csv(\"train.csv\")\n",
    "test=pd.read_csv(\"test.csv\")\n",
    "\n",
    "print(train.shape)\n",
    "print(test.shape)\n",
    "\n",
    "y_train=train[\"SalePrice\"]\n",
    "# Labelindex=train.columns.get_loc(\"SalePrice\")\n",
    "x_train=train.drop([\"SalePrice\"], axis=1)\n",
    "\n",
    "#Keep column Id for output\n",
    "IdTest=pd.DataFrame(test['Id'])\n",
    "IdTest.columns =['Id']"
   ]
  },
  {
   "cell_type": "markdown",
   "metadata": {},
   "source": [
    "# Replace missing values"
   ]
  },
  {
   "cell_type": "code",
   "execution_count": 20,
   "metadata": {},
   "outputs": [],
   "source": [
    "train.dtypes\n",
    "obj_df = train.select_dtypes(include=['object']).copy()\n",
    "obj_df.head()\n",
    "# obj_df[obj_df.isnull().any(axis=1)]\n",
    "\n",
    " \n",
    "imp = SimpleImputer(strategy=\"most_frequent\")\n",
    "x_train=imp.fit_transform(x_train)\n",
    "test=imp.fit_transform(test)"
   ]
  },
  {
   "cell_type": "markdown",
   "metadata": {},
   "source": [
    "# Apply PCA for feature reduction"
   ]
  },
  {
   "cell_type": "code",
   "execution_count": 21,
   "metadata": {},
   "outputs": [
    {
     "data": {
      "text/plain": [
       "array([[-7.11556429e+02, -2.14000529e+02,  2.16212543e+02, ...,\n",
       "        -6.23138176e-02,  2.68360578e-01, -1.52067532e-01],\n",
       "       [-7.34023594e+02, -5.35635115e+00,  3.24440568e+02, ...,\n",
       "         5.18993445e-01,  3.63570209e-01,  1.26484763e-01],\n",
       "       [-7.32872338e+02,  7.71530495e+01,  2.59561309e+01, ...,\n",
       "        -1.10588030e-02,  1.79512793e-02, -1.87074364e-01],\n",
       "       ...,\n",
       "       [ 7.12069818e+02,  2.32046528e+02, -3.33854895e+02, ...,\n",
       "        -4.00526354e-01, -6.51314704e-01,  7.05793174e-01],\n",
       "       [ 7.43273411e+02, -1.54748721e+02,  1.85502683e+02, ...,\n",
       "        -1.02672634e+00,  6.18045574e-01, -1.51936169e+00],\n",
       "       [ 7.20347998e+02,  9.44045822e+01,  3.73019641e+02, ...,\n",
       "         2.71224953e-01, -6.26060001e-01,  4.29664427e-01]])"
      ]
     },
     "execution_count": 21,
     "metadata": {},
     "output_type": "execute_result"
    }
   ],
   "source": [
    "\n",
    "from sklearn.decomposition import PCA\n",
    "pca = PCA(n_components=50)\n",
    "pca.fit(x_train)\n",
    "x_train = pca.transform(x_train) # transformed data\n",
    "x_train"
   ]
  },
  {
   "cell_type": "markdown",
   "metadata": {},
   "source": [
    "# Change Categorical Values to numerical"
   ]
  },
  {
   "cell_type": "code",
   "execution_count": 18,
   "metadata": {},
   "outputs": [],
   "source": [
    "oe_style = OrdinalEncoder()\n",
    "x_train = oe_style.fit_transform(x_train)\n",
    "test=oe_style.fit_transform(test)"
   ]
  },
  {
   "cell_type": "code",
   "execution_count": null,
   "metadata": {},
   "outputs": [],
   "source": []
  }
 ],
 "metadata": {
  "kernelspec": {
   "display_name": "Python 3",
   "language": "python",
   "name": "python3"
  },
  "language_info": {
   "codemirror_mode": {
    "name": "ipython",
    "version": 3
   },
   "file_extension": ".py",
   "mimetype": "text/x-python",
   "name": "python",
   "nbconvert_exporter": "python",
   "pygments_lexer": "ipython3",
   "version": "3.7.3"
  }
 },
 "nbformat": 4,
 "nbformat_minor": 2
}
